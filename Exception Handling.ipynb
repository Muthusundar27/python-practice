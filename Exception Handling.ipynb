{
 "cells": [
  {
   "cell_type": "markdown",
   "id": "00c14229",
   "metadata": {},
   "source": [
    "Drawback of not using exception handling"
   ]
  },
  {
   "cell_type": "code",
   "execution_count": 1,
   "id": "ff2ccc09",
   "metadata": {},
   "outputs": [
    {
     "name": "stdout",
     "output_type": "stream",
     "text": [
      "enter the number: 4\n",
      "enter the number: 0\n"
     ]
    },
    {
     "ename": "ZeroDivisionError",
     "evalue": "division by zero",
     "output_type": "error",
     "traceback": [
      "\u001b[1;31m---------------------------------------------------------------------------\u001b[0m",
      "\u001b[1;31mZeroDivisionError\u001b[0m                         Traceback (most recent call last)",
      "\u001b[1;32m~\\AppData\\Local\\Temp/ipykernel_21672/489018638.py\u001b[0m in \u001b[0;36m<module>\u001b[1;34m\u001b[0m\n\u001b[0;32m      1\u001b[0m \u001b[0mx\u001b[0m\u001b[1;33m=\u001b[0m\u001b[0minput\u001b[0m\u001b[1;33m(\u001b[0m\u001b[1;34m\"enter the number: \"\u001b[0m\u001b[1;33m)\u001b[0m\u001b[1;33m\u001b[0m\u001b[1;33m\u001b[0m\u001b[0m\n\u001b[0;32m      2\u001b[0m \u001b[0my\u001b[0m\u001b[1;33m=\u001b[0m\u001b[0minput\u001b[0m\u001b[1;33m(\u001b[0m\u001b[1;34m\"enter the number: \"\u001b[0m\u001b[1;33m)\u001b[0m\u001b[1;33m\u001b[0m\u001b[1;33m\u001b[0m\u001b[0m\n\u001b[1;32m----> 3\u001b[1;33m \u001b[0mz\u001b[0m \u001b[1;33m=\u001b[0m \u001b[0mint\u001b[0m\u001b[1;33m(\u001b[0m\u001b[0mx\u001b[0m\u001b[1;33m)\u001b[0m \u001b[1;33m/\u001b[0m \u001b[0mint\u001b[0m\u001b[1;33m(\u001b[0m\u001b[0my\u001b[0m\u001b[1;33m)\u001b[0m\u001b[1;33m\u001b[0m\u001b[1;33m\u001b[0m\u001b[0m\n\u001b[0m\u001b[0;32m      4\u001b[0m \u001b[0mprint\u001b[0m\u001b[1;33m(\u001b[0m\u001b[1;34m\"division is: \"\u001b[0m\u001b[1;33m,\u001b[0m\u001b[0mz\u001b[0m\u001b[1;33m)\u001b[0m\u001b[1;33m\u001b[0m\u001b[1;33m\u001b[0m\u001b[0m\n\u001b[0;32m      5\u001b[0m \u001b[0mprint\u001b[0m\u001b[1;33m(\u001b[0m\u001b[1;34m\"end of the programm\"\u001b[0m\u001b[1;33m)\u001b[0m\u001b[1;33m\u001b[0m\u001b[1;33m\u001b[0m\u001b[0m\n",
      "\u001b[1;31mZeroDivisionError\u001b[0m: division by zero"
     ]
    }
   ],
   "source": [
    "x=input(\"enter the number: \")\n",
    "y=input(\"enter the number: \")\n",
    "z = int(x) / int(y)\n",
    "print(\"division is: \",z)\n",
    "print(\"end of the programm\")"
   ]
  },
  {
   "cell_type": "markdown",
   "id": "05883f00",
   "metadata": {},
   "source": [
    "ZeroDivisionError:"
   ]
  },
  {
   "cell_type": "code",
   "execution_count": 9,
   "id": "e6065c07",
   "metadata": {},
   "outputs": [
    {
     "name": "stdout",
     "output_type": "stream",
     "text": [
      "enter the number: 4\n",
      "enter the number: 0\n",
      "Error occured:  division by zero\n",
      "Finally we tried the exception handling program\n"
     ]
    }
   ],
   "source": [
    "x=input(\"enter the number: \")\n",
    "y=input(\"enter the number: \")\n",
    "try:\n",
    "    z = int(x) / int(y)\n",
    "    print(z)\n",
    "except ZeroDivisionError as e:\n",
    "    print(\"Error occured: \",e)\n",
    "    print(\"Finally we tried the exception handling program\")"
   ]
  },
  {
   "cell_type": "markdown",
   "id": "76d27bb6",
   "metadata": {},
   "source": [
    "TypeError:"
   ]
  },
  {
   "cell_type": "code",
   "execution_count": 10,
   "id": "1d38d643",
   "metadata": {},
   "outputs": [
    {
     "name": "stdout",
     "output_type": "stream",
     "text": [
      "enter the number: 4\n",
      "enter the number: 2\n",
      "Error occured:  unsupported operand type(s) for +: 'int' and 'str'\n"
     ]
    }
   ],
   "source": [
    "x=input(\"enter the number: \")\n",
    "y=input(\"enter the number: \")\n",
    "try:\n",
    "    z=int(x)+y\n",
    "    print(z)\n",
    "except TypeError as e:\n",
    "    print(\"Error occured: \",e)"
   ]
  },
  {
   "cell_type": "markdown",
   "id": "479cc927",
   "metadata": {},
   "source": [
    "ValueError:"
   ]
  },
  {
   "cell_type": "code",
   "execution_count": 13,
   "id": "999a84fd",
   "metadata": {},
   "outputs": [
    {
     "name": "stdout",
     "output_type": "stream",
     "text": [
      "enter the number: 4\n",
      "enter the number: str\n",
      "Error occurred:  invalid literal for int() with base 10: 'str'\n"
     ]
    }
   ],
   "source": [
    "x=input(\"enter the number: \")\n",
    "y=input(\"enter the number: \")\n",
    "try:\n",
    "    z=int(x)+int(y)\n",
    "    print(z)\n",
    "except ValueError as e:\n",
    "    print(\"Error occurred: \", e)"
   ]
  },
  {
   "cell_type": "markdown",
   "id": "bc8d9d64",
   "metadata": {},
   "source": [
    "AttributeError:"
   ]
  },
  {
   "cell_type": "code",
   "execution_count": 18,
   "id": "e070dfe1",
   "metadata": {},
   "outputs": [
    {
     "name": "stdout",
     "output_type": "stream",
     "text": [
      "Error occurred: 'int' object has no attribute 'append'\n"
     ]
    }
   ],
   "source": [
    "try:\n",
    "    a=5\n",
    "    a.append(\"hello\")\n",
    "except AttributeError as e:\n",
    "    print(\"Error occurred:\" ,e)"
   ]
  },
  {
   "cell_type": "markdown",
   "id": "fae3ed96",
   "metadata": {},
   "source": [
    " Multiple Exception Handling"
   ]
  },
  {
   "cell_type": "code",
   "execution_count": 20,
   "id": "3e48f9b7",
   "metadata": {},
   "outputs": [
    {
     "name": "stdout",
     "output_type": "stream",
     "text": [
      "enter the number: 4\n",
      "enter the number: 0\n",
      "Error occurred: division by zero\n",
      "end of the program\n"
     ]
    }
   ],
   "source": [
    "x=input(\"enter the number: \")\n",
    "y=input(\"enter the number: \")\n",
    "try:\n",
    "    z = int(x) / int(y)\n",
    "    print(int(z))\n",
    "except (ZeroDivisionError, TypeError, AttributeError, ValueError) as e:\n",
    "    print(\"Error occurred:\" , e)\n",
    "    print(\"end of the program\")"
   ]
  }
 ],
 "metadata": {
  "kernelspec": {
   "display_name": "Python 3 (ipykernel)",
   "language": "python",
   "name": "python3"
  },
  "language_info": {
   "codemirror_mode": {
    "name": "ipython",
    "version": 3
   },
   "file_extension": ".py",
   "mimetype": "text/x-python",
   "name": "python",
   "nbconvert_exporter": "python",
   "pygments_lexer": "ipython3",
   "version": "3.9.7"
  }
 },
 "nbformat": 4,
 "nbformat_minor": 5
}
