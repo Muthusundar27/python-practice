{
 "cells": [
  {
   "cell_type": "markdown",
   "id": "4bd02a13",
   "metadata": {},
   "source": [
    " 1.Create Acronyms using Python"
   ]
  },
  {
   "cell_type": "code",
   "execution_count": 1,
   "id": "8bd50ebc",
   "metadata": {},
   "outputs": [
    {
     "name": "stdout",
     "output_type": "stream",
     "text": [
      "Enter the phrase: digital india\n",
      " DI\n"
     ]
    }
   ],
   "source": [
    "user_input = input(\"Enter the phrase: \")\n",
    "text = user_input.split()\n",
    "a=\" \"\n",
    "for i in text:\n",
    "    a=a+str(i[0]).upper()\n",
    "print(a)\n"
   ]
  },
  {
   "cell_type": "code",
   "execution_count": 2,
   "id": "3f062289",
   "metadata": {},
   "outputs": [
    {
     "name": "stdout",
     "output_type": "stream",
     "text": [
      "Enter the phrase: all india radio\n",
      " AIR\n"
     ]
    }
   ],
   "source": [
    "user_input = input(\"Enter the phrase: \")\n",
    "text = user_input.split()\n",
    "a = \" \"\n",
    "for i in text:\n",
    "    a=a+str(i[0]).upper()\n",
    "print(a)\n"
   ]
  },
  {
   "cell_type": "markdown",
   "id": "c48d5f94",
   "metadata": {},
   "source": [
    "2.Alarm Clock with Python"
   ]
  },
  {
   "cell_type": "code",
   "execution_count": 3,
   "id": "33a69e17",
   "metadata": {},
   "outputs": [
    {
     "name": "stdout",
     "output_type": "stream",
     "text": [
      "Enter the time of alarm to be set:HH:MM:SS\n",
      "10:50:15 am\n",
      "<class 'str'>\n",
      "Setting up alarm..\n",
      "Wake Up!\n"
     ]
    }
   ],
   "source": [
    "from datetime import datetime   \n",
    "alarm_time = input(\"Enter the time of alarm to be set:HH:MM:SS\\n\")\n",
    "print(type(alarm_time))\n",
    "alarm_hour=alarm_time[0:2]\n",
    "alarm_minute=alarm_time[3:5]\n",
    "alarm_seconds=alarm_time[6:8]\n",
    "alarm_period = alarm_time[9:11].upper()\n",
    "print(\"Setting up alarm..\")\n",
    "while True:\n",
    "    now = datetime.now()\n",
    "    current_hour = now.strftime(\"%I\")\n",
    "    current_minute = now.strftime(\"%M\")\n",
    "    current_seconds = now.strftime(\"%S\")\n",
    "    current_period = now.strftime(\"%p\")\n",
    "    if(alarm_period==current_period):\n",
    "        if(alarm_hour==current_hour):\n",
    "            if(alarm_minute==current_minute):\n",
    "                if(alarm_seconds==current_seconds):\n",
    "                    print(\"Wake Up!\")\n",
    "                    break"
   ]
  },
  {
   "cell_type": "markdown",
   "id": "95132305",
   "metadata": {},
   "source": [
    "3.Email Slicer with Python"
   ]
  },
  {
   "cell_type": "code",
   "execution_count": 4,
   "id": "23879433",
   "metadata": {},
   "outputs": [
    {
     "name": "stdout",
     "output_type": "stream",
     "text": [
      "Enter Your Email: sundar20@gmail.com\n",
      "Your user name is sundar20 and your domain is gmail.com\n"
     ]
    }
   ],
   "source": [
    "email = input(\"Enter Your Email: \").strip()\n",
    "username = email[:email.index(\"@\")]\n",
    "domain_name = email[email.index(\"@\")+1:]\n",
    "print(\"Your user name is \"+ username + \" and your domain is \" + domain_name)"
   ]
  },
  {
   "cell_type": "markdown",
   "id": "6d036d13",
   "metadata": {},
   "source": [
    "4.Story Generator with Python"
   ]
  },
  {
   "cell_type": "code",
   "execution_count": 5,
   "id": "8d9ee5b3",
   "metadata": {},
   "outputs": [
    {
     "name": "stdout",
     "output_type": "stream",
     "text": [
      "A long time ago, Sharm that lived in England, went to the university and Eats a burger\n"
     ]
    }
   ],
   "source": [
    "import random\n",
    "when = ['A few years ago', 'Yesterday', 'Last night', 'A long time ago','On 20th Jan']\n",
    "who = ['a rabbit', 'an elephant', 'a mouse', 'a turtle','a cat']\n",
    "name = ['Ali', 'james','daniel', 'maalu', 'Sharm']\n",
    "residence = ['Barcelona','India', 'Germany', 'Venice', 'England']\n",
    "went = ['cinema', 'university','seminar', 'school', 'laundry']\n",
    "happened = ['made a lot of friends','Eats a burger', 'found a secret key', 'solved a mistery', 'wrote a book']\n",
    "print(random.choice(when) + ', ' + random.choice(name) + ' that lived in ' + random.choice(residence)\n",
    "      + ', went to the ' + random.choice(went) + ' and ' + random.choice(happened))\n"
   ]
  },
  {
   "cell_type": "markdown",
   "id": "ea5542e6",
   "metadata": {},
   "source": [
    "5.Python Program to Generate Password"
   ]
  },
  {
   "cell_type": "code",
   "execution_count": 6,
   "id": "c1791741",
   "metadata": {},
   "outputs": [
    {
     "name": "stdout",
     "output_type": "stream",
     "text": [
      "enter the length of password: 7\n",
      "EbJvu58\n"
     ]
    }
   ],
   "source": [
    "import random\n",
    "passlen = int(input(\"enter the length of password: \"))\n",
    "s=\"abcdefghijklmnopqrstuvwxyz01234567890ABCDEFGHIJKLMNOPQRSTUVWXYZ!@#$%^&*()?\"\n",
    "p =\"\".join(random.sample(s,passlen ))\n",
    "print(p)\n"
   ]
  },
  {
   "cell_type": "markdown",
   "id": "2dc886a9",
   "metadata": {},
   "source": [
    "6.Play Rock, Paper, and Scissors with Python"
   ]
  },
  {
   "cell_type": "code",
   "execution_count": 7,
   "id": "2c8e7a73",
   "metadata": {},
   "outputs": [
    {
     "name": "stdout",
     "output_type": "stream",
     "text": [
      "Rock, Paper or  Scissors?paper\n",
      "You lose! Scissors cut Paper\n",
      "Rock, Paper or  Scissors?paper\n",
      "You win! Paper covers Rock\n",
      "Rock, Paper or  Scissors?scissors\n",
      "Tie!\n",
      "Rock, Paper or  Scissors?rock\n",
      "You win! Rock smashes Scissors\n",
      "Rock, Paper or  Scissors?paper\n",
      "You lose! Scissors cut Paper\n",
      "Rock, Paper or  Scissors?paper\n",
      "Tie!\n",
      "Rock, Paper or  Scissors?scissors\n",
      "Tie!\n",
      "Rock, Paper or  Scissors?rock\n",
      "You win! Rock smashes Scissors\n",
      "Rock, Paper or  Scissors?end\n",
      "Final Scores:\n",
      "CPU: 2\n",
      "Player: 3\n"
     ]
    }
   ],
   "source": [
    "import random\n",
    "choices = [\"Rock\", \"Paper\", \"Scissors\"]\n",
    "player = False\n",
    "cpu_score = 0\n",
    "player_score = 0\n",
    "while True:\n",
    "    player = input(\"Rock, Paper or  Scissors?\").capitalize()\n",
    "    computer = random.choice(choices)\n",
    "    ## Conditions of Rock,Paper and Scissors\n",
    "    if player == computer:\n",
    "        print(\"Tie!\")\n",
    "    elif player == \"Rock\":\n",
    "        if computer == \"Paper\":\n",
    "            print(\"You lose!\", computer, \"covers\", player)\n",
    "            cpu_score+=1\n",
    "        else:\n",
    "            print(\"You win!\", player, \"smashes\", computer)\n",
    "            player_score+=1\n",
    "    elif player == \"Paper\":\n",
    "        if computer == \"Scissors\":\n",
    "            print(\"You lose!\", computer, \"cut\", player)\n",
    "            cpu_score+=1\n",
    "        else:\n",
    "            print(\"You win!\", player, \"covers\", computer)\n",
    "            player_score+=1\n",
    "    elif player == \"Scissors\":\n",
    "        if computer == \"Rock\":\n",
    "            print(\"You lose...\", computer, \"smashes\", player)\n",
    "            cpu_score+=1\n",
    "        else:\n",
    "            print(\"You win!\", player, \"cut\", computer)\n",
    "            player_score+=1\n",
    "    elif player=='End':\n",
    "        print(\"Final Scores:\")\n",
    "        print(\"CPU:\", cpu_score)\n",
    "        print(\"Player:\", player_score)\n",
    "        break"
   ]
  }
 ],
 "metadata": {
  "kernelspec": {
   "display_name": "Python 3 (ipykernel)",
   "language": "python",
   "name": "python3"
  },
  "language_info": {
   "codemirror_mode": {
    "name": "ipython",
    "version": 3
   },
   "file_extension": ".py",
   "mimetype": "text/x-python",
   "name": "python",
   "nbconvert_exporter": "python",
   "pygments_lexer": "ipython3",
   "version": "3.9.7"
  }
 },
 "nbformat": 4,
 "nbformat_minor": 5
}
