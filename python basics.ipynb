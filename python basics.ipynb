{
 "cells": [
  {
   "cell_type": "code",
   "execution_count": 1,
   "id": "569584b9",
   "metadata": {},
   "outputs": [
    {
     "data": {
      "text/plain": [
       "'Hi guys, welcome!'"
      ]
     },
     "execution_count": 1,
     "metadata": {},
     "output_type": "execute_result"
    }
   ],
   "source": [
    "'Hi guys, welcome!'"
   ]
  },
  {
   "cell_type": "markdown",
   "id": "3d7786eb",
   "metadata": {},
   "source": [
    "Numbers and comments"
   ]
  },
  {
   "cell_type": "code",
   "execution_count": 2,
   "id": "c19142b5",
   "metadata": {},
   "outputs": [],
   "source": [
    "# integers 1,2,3,4,5\n",
    "# float 1.5,2.3,4.5,10.12\n",
    "# complex 5+2j,3+2j"
   ]
  },
  {
   "cell_type": "code",
   "execution_count": 3,
   "id": "7987f085",
   "metadata": {},
   "outputs": [
    {
     "data": {
      "text/plain": [
       "10"
      ]
     },
     "execution_count": 3,
     "metadata": {},
     "output_type": "execute_result"
    }
   ],
   "source": [
    "10"
   ]
  },
  {
   "cell_type": "code",
   "execution_count": 4,
   "id": "b7237b03",
   "metadata": {},
   "outputs": [
    {
     "data": {
      "text/plain": [
       "2.3"
      ]
     },
     "execution_count": 4,
     "metadata": {},
     "output_type": "execute_result"
    }
   ],
   "source": [
    "2.3"
   ]
  },
  {
   "cell_type": "code",
   "execution_count": 5,
   "id": "643054f0",
   "metadata": {},
   "outputs": [
    {
     "data": {
      "text/plain": [
       "(3+2j)"
      ]
     },
     "execution_count": 5,
     "metadata": {},
     "output_type": "execute_result"
    }
   ],
   "source": [
    "3+2j"
   ]
  },
  {
   "cell_type": "code",
   "execution_count": 6,
   "id": "af066617",
   "metadata": {},
   "outputs": [],
   "source": [
    "# mathematical expression (+,-,*,/)"
   ]
  },
  {
   "cell_type": "code",
   "execution_count": 7,
   "id": "aa587396",
   "metadata": {},
   "outputs": [
    {
     "data": {
      "text/plain": [
       "378"
      ]
     },
     "execution_count": 7,
     "metadata": {},
     "output_type": "execute_result"
    }
   ],
   "source": [
    "124+254"
   ]
  },
  {
   "cell_type": "code",
   "execution_count": 8,
   "id": "ed16b953",
   "metadata": {},
   "outputs": [
    {
     "data": {
      "text/plain": [
       "5.6"
      ]
     },
     "execution_count": 8,
     "metadata": {},
     "output_type": "execute_result"
    }
   ],
   "source": [
    "2.5+3.1"
   ]
  },
  {
   "cell_type": "code",
   "execution_count": 9,
   "id": "ed79c0a2",
   "metadata": {},
   "outputs": [],
   "source": [
    "# using power"
   ]
  },
  {
   "cell_type": "code",
   "execution_count": 10,
   "id": "1e04c554",
   "metadata": {},
   "outputs": [
    {
     "data": {
      "text/plain": [
       "81"
      ]
     },
     "execution_count": 10,
     "metadata": {},
     "output_type": "execute_result"
    }
   ],
   "source": [
    "3 ** 4"
   ]
  },
  {
   "cell_type": "code",
   "execution_count": 11,
   "id": "fb2c4f42",
   "metadata": {},
   "outputs": [
    {
     "data": {
      "text/plain": [
       "2.5"
      ]
     },
     "execution_count": 11,
     "metadata": {},
     "output_type": "execute_result"
    }
   ],
   "source": [
    "5 / 2"
   ]
  },
  {
   "cell_type": "code",
   "execution_count": 12,
   "id": "a25d3c2a",
   "metadata": {},
   "outputs": [
    {
     "data": {
      "text/plain": [
       "1"
      ]
     },
     "execution_count": 12,
     "metadata": {},
     "output_type": "execute_result"
    }
   ],
   "source": [
    "5 % 2"
   ]
  },
  {
   "cell_type": "markdown",
   "id": "3473b6e5",
   "metadata": {},
   "source": [
    "Variables and assignments"
   ]
  },
  {
   "cell_type": "code",
   "execution_count": 13,
   "id": "9b8ce372",
   "metadata": {},
   "outputs": [
    {
     "data": {
      "text/plain": [
       "498.0"
      ]
     },
     "execution_count": 13,
     "metadata": {},
     "output_type": "execute_result"
    }
   ],
   "source": [
    "watch = 500\n",
    "watch-2.0"
   ]
  },
  {
   "cell_type": "code",
   "execution_count": 14,
   "id": "4b5b3126",
   "metadata": {},
   "outputs": [
    {
     "data": {
      "text/plain": [
       "'Maalu'"
      ]
     },
     "execution_count": 14,
     "metadata": {},
     "output_type": "execute_result"
    }
   ],
   "source": [
    "Name = 'Maalu'\n",
    "Name"
   ]
  },
  {
   "cell_type": "code",
   "execution_count": 15,
   "id": "ef73d981",
   "metadata": {},
   "outputs": [
    {
     "data": {
      "text/plain": [
       "('Maalu', 500)"
      ]
     },
     "execution_count": 15,
     "metadata": {},
     "output_type": "execute_result"
    }
   ],
   "source": [
    "Name,watch"
   ]
  },
  {
   "cell_type": "markdown",
   "id": "c85297fc",
   "metadata": {},
   "source": [
    "String & methods "
   ]
  },
  {
   "cell_type": "code",
   "execution_count": 16,
   "id": "dfc54175",
   "metadata": {},
   "outputs": [],
   "source": [
    "word = 'Hai sha'\n",
    "word1 = \"How are you buddy!\""
   ]
  },
  {
   "cell_type": "code",
   "execution_count": 17,
   "id": "48bc7500",
   "metadata": {},
   "outputs": [
    {
     "data": {
      "text/plain": [
       "'Hai sha'"
      ]
     },
     "execution_count": 17,
     "metadata": {},
     "output_type": "execute_result"
    }
   ],
   "source": [
    "word\n"
   ]
  },
  {
   "cell_type": "code",
   "execution_count": 18,
   "id": "7b1b7044",
   "metadata": {},
   "outputs": [
    {
     "data": {
      "text/plain": [
       "'How are you buddy!'"
      ]
     },
     "execution_count": 18,
     "metadata": {},
     "output_type": "execute_result"
    }
   ],
   "source": [
    "word1"
   ]
  },
  {
   "cell_type": "code",
   "execution_count": 19,
   "id": "a3071a04",
   "metadata": {},
   "outputs": [],
   "source": [
    "para = \"\"\"this\n",
    "is\n",
    "my life\n",
    "\"\"\""
   ]
  },
  {
   "cell_type": "code",
   "execution_count": 20,
   "id": "5cc38db3",
   "metadata": {},
   "outputs": [
    {
     "data": {
      "text/plain": [
       "'this\\nis\\nmy life\\n'"
      ]
     },
     "execution_count": 20,
     "metadata": {},
     "output_type": "execute_result"
    }
   ],
   "source": [
    "para"
   ]
  },
  {
   "cell_type": "code",
   "execution_count": 21,
   "id": "51e6be41",
   "metadata": {},
   "outputs": [],
   "source": [
    "word2 = \"hello\""
   ]
  },
  {
   "cell_type": "code",
   "execution_count": 22,
   "id": "893fbad6",
   "metadata": {},
   "outputs": [
    {
     "data": {
      "text/plain": [
       "'h'"
      ]
     },
     "execution_count": 22,
     "metadata": {},
     "output_type": "execute_result"
    }
   ],
   "source": [
    "word2[0]\n"
   ]
  },
  {
   "cell_type": "code",
   "execution_count": 23,
   "id": "8b0ee603",
   "metadata": {},
   "outputs": [
    {
     "data": {
      "text/plain": [
       "'e'"
      ]
     },
     "execution_count": 23,
     "metadata": {},
     "output_type": "execute_result"
    }
   ],
   "source": [
    "word2[1]"
   ]
  },
  {
   "cell_type": "code",
   "execution_count": 24,
   "id": "08717767",
   "metadata": {},
   "outputs": [],
   "source": [
    "# slicing"
   ]
  },
  {
   "cell_type": "code",
   "execution_count": 25,
   "id": "c70196b5",
   "metadata": {},
   "outputs": [
    {
     "data": {
      "text/plain": [
       "'Hai'"
      ]
     },
     "execution_count": 25,
     "metadata": {},
     "output_type": "execute_result"
    }
   ],
   "source": [
    "word[0:3]"
   ]
  },
  {
   "cell_type": "code",
   "execution_count": 26,
   "id": "70f9dee5",
   "metadata": {},
   "outputs": [
    {
     "data": {
      "text/plain": [
       "'How'"
      ]
     },
     "execution_count": 26,
     "metadata": {},
     "output_type": "execute_result"
    }
   ],
   "source": [
    "word1[:3]"
   ]
  },
  {
   "cell_type": "code",
   "execution_count": 27,
   "id": "5a7b96dd",
   "metadata": {},
   "outputs": [
    {
     "data": {
      "text/plain": [
       "'are you buddy!'"
      ]
     },
     "execution_count": 27,
     "metadata": {},
     "output_type": "execute_result"
    }
   ],
   "source": [
    "word1[4:]"
   ]
  },
  {
   "cell_type": "code",
   "execution_count": 28,
   "id": "2d54f0e9",
   "metadata": {},
   "outputs": [],
   "source": [
    "# length"
   ]
  },
  {
   "cell_type": "code",
   "execution_count": 29,
   "id": "4ed26f4e",
   "metadata": {},
   "outputs": [
    {
     "data": {
      "text/plain": [
       "5"
      ]
     },
     "execution_count": 29,
     "metadata": {},
     "output_type": "execute_result"
    }
   ],
   "source": [
    "len(word2)"
   ]
  },
  {
   "cell_type": "code",
   "execution_count": 30,
   "id": "131f36f3",
   "metadata": {},
   "outputs": [],
   "source": [
    "#strip()"
   ]
  },
  {
   "cell_type": "code",
   "execution_count": 31,
   "id": "995db5d9",
   "metadata": {},
   "outputs": [
    {
     "data": {
      "text/plain": [
       "'Believe yourself'"
      ]
     },
     "execution_count": 31,
     "metadata": {},
     "output_type": "execute_result"
    }
   ],
   "source": [
    "word3 = \"   Believe yourself\"\n",
    "word3.strip()"
   ]
  },
  {
   "cell_type": "code",
   "execution_count": 32,
   "id": "a4003b27",
   "metadata": {},
   "outputs": [],
   "source": [
    "# lower,upper "
   ]
  },
  {
   "cell_type": "code",
   "execution_count": 33,
   "id": "5d3d2f1e",
   "metadata": {},
   "outputs": [
    {
     "data": {
      "text/plain": [
       "'HELLO'"
      ]
     },
     "execution_count": 33,
     "metadata": {},
     "output_type": "execute_result"
    }
   ],
   "source": [
    "word2.upper()"
   ]
  },
  {
   "cell_type": "code",
   "execution_count": 34,
   "id": "af307c3f",
   "metadata": {},
   "outputs": [
    {
     "data": {
      "text/plain": [
       "'hello'"
      ]
     },
     "execution_count": 34,
     "metadata": {},
     "output_type": "execute_result"
    }
   ],
   "source": [
    "a=word2.upper()\n",
    "a.lower()"
   ]
  },
  {
   "cell_type": "code",
   "execution_count": 35,
   "id": "68d8a6b6",
   "metadata": {},
   "outputs": [],
   "source": [
    "# replace"
   ]
  },
  {
   "cell_type": "code",
   "execution_count": 36,
   "id": "33ab874d",
   "metadata": {},
   "outputs": [
    {
     "data": {
      "text/plain": [
       "'raju'"
      ]
     },
     "execution_count": 36,
     "metadata": {},
     "output_type": "execute_result"
    }
   ],
   "source": [
    "b = \"raj\"\n",
    "b.replace(\"j\",\"ju\")"
   ]
  },
  {
   "cell_type": "code",
   "execution_count": 37,
   "id": "4ca20b92",
   "metadata": {},
   "outputs": [],
   "source": [
    "# split"
   ]
  },
  {
   "cell_type": "code",
   "execution_count": 38,
   "id": "07020d01",
   "metadata": {},
   "outputs": [
    {
     "data": {
      "text/plain": [
       "['h', 'llo']"
      ]
     },
     "execution_count": 38,
     "metadata": {},
     "output_type": "execute_result"
    }
   ],
   "source": [
    "word2.split('e')"
   ]
  },
  {
   "cell_type": "code",
   "execution_count": 39,
   "id": "ec54b97a",
   "metadata": {},
   "outputs": [],
   "source": [
    "#in search word"
   ]
  },
  {
   "cell_type": "code",
   "execution_count": 40,
   "id": "1c756a78",
   "metadata": {},
   "outputs": [],
   "source": [
    "word3 = 'hello,world'"
   ]
  },
  {
   "cell_type": "code",
   "execution_count": 41,
   "id": "26bea5fa",
   "metadata": {},
   "outputs": [
    {
     "data": {
      "text/plain": [
       "True"
      ]
     },
     "execution_count": 41,
     "metadata": {},
     "output_type": "execute_result"
    }
   ],
   "source": [
    "'hell' in word3"
   ]
  },
  {
   "cell_type": "code",
   "execution_count": 42,
   "id": "e3a692ed",
   "metadata": {},
   "outputs": [
    {
     "data": {
      "text/plain": [
       "False"
      ]
     },
     "execution_count": 42,
     "metadata": {},
     "output_type": "execute_result"
    }
   ],
   "source": [
    "'help' in word3"
   ]
  },
  {
   "cell_type": "code",
   "execution_count": 43,
   "id": "aab3f375",
   "metadata": {},
   "outputs": [
    {
     "data": {
      "text/plain": [
       "'Hai shaHow are you buddy!'"
      ]
     },
     "execution_count": 43,
     "metadata": {},
     "output_type": "execute_result"
    }
   ],
   "source": [
    "word + word1"
   ]
  },
  {
   "cell_type": "markdown",
   "id": "e9afdc43",
   "metadata": {},
   "source": [
    "Operators and keywords"
   ]
  },
  {
   "cell_type": "code",
   "execution_count": 44,
   "id": "ffe7e174",
   "metadata": {},
   "outputs": [],
   "source": [
    "# boolean"
   ]
  },
  {
   "cell_type": "code",
   "execution_count": 45,
   "id": "236b56e5",
   "metadata": {},
   "outputs": [
    {
     "data": {
      "text/plain": [
       "False"
      ]
     },
     "execution_count": 45,
     "metadata": {},
     "output_type": "execute_result"
    }
   ],
   "source": [
    "1 > 10"
   ]
  },
  {
   "cell_type": "code",
   "execution_count": 46,
   "id": "86df2cdf",
   "metadata": {},
   "outputs": [
    {
     "data": {
      "text/plain": [
       "True"
      ]
     },
     "execution_count": 46,
     "metadata": {},
     "output_type": "execute_result"
    }
   ],
   "source": [
    "1 < 10"
   ]
  },
  {
   "cell_type": "code",
   "execution_count": 47,
   "id": "5f7886be",
   "metadata": {},
   "outputs": [
    {
     "data": {
      "text/plain": [
       "True"
      ]
     },
     "execution_count": 47,
     "metadata": {},
     "output_type": "execute_result"
    }
   ],
   "source": [
    "5 == 5"
   ]
  },
  {
   "cell_type": "code",
   "execution_count": 48,
   "id": "0208b4cf",
   "metadata": {},
   "outputs": [],
   "source": [
    "# casting"
   ]
  },
  {
   "cell_type": "code",
   "execution_count": 49,
   "id": "992d1cec",
   "metadata": {},
   "outputs": [
    {
     "data": {
      "text/plain": [
       "('10', 10)"
      ]
     },
     "execution_count": 49,
     "metadata": {},
     "output_type": "execute_result"
    }
   ],
   "source": [
    "a = str(10)\n",
    "b = int(10.0)\n",
    "a,b"
   ]
  },
  {
   "cell_type": "code",
   "execution_count": 50,
   "id": "684b1d37",
   "metadata": {},
   "outputs": [
    {
     "data": {
      "text/plain": [
       "(20.0, 20)"
      ]
     },
     "execution_count": 50,
     "metadata": {},
     "output_type": "execute_result"
    }
   ],
   "source": [
    "x = float(20)\n",
    "y = int(20.5)\n",
    "x,y"
   ]
  },
  {
   "cell_type": "code",
   "execution_count": 51,
   "id": "f0949c22",
   "metadata": {},
   "outputs": [
    {
     "data": {
      "text/plain": [
       "((6+0j), 4)"
      ]
     },
     "execution_count": 51,
     "metadata": {},
     "output_type": "execute_result"
    }
   ],
   "source": [
    "c = complex(6)\n",
    "d = int(4.4)\n",
    "c,d"
   ]
  },
  {
   "cell_type": "code",
   "execution_count": 52,
   "id": "8063e854",
   "metadata": {},
   "outputs": [],
   "source": [
    "# type"
   ]
  },
  {
   "cell_type": "code",
   "execution_count": 53,
   "id": "c4d5f60e",
   "metadata": {},
   "outputs": [
    {
     "data": {
      "text/plain": [
       "str"
      ]
     },
     "execution_count": 53,
     "metadata": {},
     "output_type": "execute_result"
    }
   ],
   "source": [
    "type(a)"
   ]
  },
  {
   "cell_type": "code",
   "execution_count": 54,
   "id": "5523d662",
   "metadata": {},
   "outputs": [
    {
     "data": {
      "text/plain": [
       "complex"
      ]
     },
     "execution_count": 54,
     "metadata": {},
     "output_type": "execute_result"
    }
   ],
   "source": [
    "type(c)"
   ]
  },
  {
   "cell_type": "markdown",
   "id": "4c37529a",
   "metadata": {},
   "source": [
    "List []"
   ]
  },
  {
   "cell_type": "code",
   "execution_count": 55,
   "id": "59f6cc48",
   "metadata": {},
   "outputs": [],
   "source": [
    "# duplicate,specific,add,modify"
   ]
  },
  {
   "cell_type": "code",
   "execution_count": 56,
   "id": "dfac9444",
   "metadata": {},
   "outputs": [],
   "source": [
    "fruits = ['apple', 'banana', 'cherry', 'apple']"
   ]
  },
  {
   "cell_type": "code",
   "execution_count": 57,
   "id": "dceb7e3d",
   "metadata": {},
   "outputs": [
    {
     "data": {
      "text/plain": [
       "'banana'"
      ]
     },
     "execution_count": 57,
     "metadata": {},
     "output_type": "execute_result"
    }
   ],
   "source": [
    "fruits[1]"
   ]
  },
  {
   "cell_type": "code",
   "execution_count": 58,
   "id": "f627b085",
   "metadata": {},
   "outputs": [],
   "source": [
    "fruits[3] = 'orange'"
   ]
  },
  {
   "cell_type": "code",
   "execution_count": 59,
   "id": "d1287b68",
   "metadata": {},
   "outputs": [
    {
     "data": {
      "text/plain": [
       "['apple', 'banana', 'cherry', 'orange']"
      ]
     },
     "execution_count": 59,
     "metadata": {},
     "output_type": "execute_result"
    }
   ],
   "source": [
    "fruits"
   ]
  },
  {
   "cell_type": "code",
   "execution_count": 60,
   "id": "de717bc9",
   "metadata": {},
   "outputs": [
    {
     "data": {
      "text/plain": [
       "True"
      ]
     },
     "execution_count": 60,
     "metadata": {},
     "output_type": "execute_result"
    }
   ],
   "source": [
    "'apple' in fruits"
   ]
  },
  {
   "cell_type": "code",
   "execution_count": 61,
   "id": "1991e178",
   "metadata": {},
   "outputs": [],
   "source": [
    "fruits.append(\"new\")"
   ]
  },
  {
   "cell_type": "code",
   "execution_count": 62,
   "id": "d0868472",
   "metadata": {},
   "outputs": [
    {
     "data": {
      "text/plain": [
       "['apple', 'banana', 'cherry', 'orange', 'new']"
      ]
     },
     "execution_count": 62,
     "metadata": {},
     "output_type": "execute_result"
    }
   ],
   "source": [
    "fruits"
   ]
  },
  {
   "cell_type": "code",
   "execution_count": 63,
   "id": "bf398c27",
   "metadata": {},
   "outputs": [],
   "source": [
    "# sort"
   ]
  },
  {
   "cell_type": "code",
   "execution_count": 64,
   "id": "52673d1a",
   "metadata": {},
   "outputs": [],
   "source": [
    "number = [11,4,8,0,21]\n",
    "number.sort()"
   ]
  },
  {
   "cell_type": "code",
   "execution_count": 65,
   "id": "ee9fce5f",
   "metadata": {},
   "outputs": [
    {
     "data": {
      "text/plain": [
       "[0, 4, 8, 11, 21]"
      ]
     },
     "execution_count": 65,
     "metadata": {},
     "output_type": "execute_result"
    }
   ],
   "source": [
    "number"
   ]
  },
  {
   "cell_type": "markdown",
   "id": "04c98714",
   "metadata": {},
   "source": [
    "tuples ()"
   ]
  },
  {
   "cell_type": "code",
   "execution_count": 66,
   "id": "0cf35a5b",
   "metadata": {},
   "outputs": [],
   "source": [
    "# no modified,but specified,duplicate"
   ]
  },
  {
   "cell_type": "code",
   "execution_count": 67,
   "id": "5a3e4f56",
   "metadata": {},
   "outputs": [],
   "source": [
    "fruits =('apple', 'cherry','banana', 'apple')"
   ]
  },
  {
   "cell_type": "code",
   "execution_count": 68,
   "id": "f5368bf2",
   "metadata": {},
   "outputs": [
    {
     "data": {
      "text/plain": [
       "('apple', 'cherry', 'banana', 'apple')"
      ]
     },
     "execution_count": 68,
     "metadata": {},
     "output_type": "execute_result"
    }
   ],
   "source": [
    "fruits"
   ]
  },
  {
   "cell_type": "code",
   "execution_count": 69,
   "id": "d0b0c5af",
   "metadata": {},
   "outputs": [
    {
     "data": {
      "text/plain": [
       "'cherry'"
      ]
     },
     "execution_count": 69,
     "metadata": {},
     "output_type": "execute_result"
    }
   ],
   "source": [
    "fruits[1]"
   ]
  },
  {
   "cell_type": "markdown",
   "id": "db92ad8f",
   "metadata": {},
   "source": [
    "set {}"
   ]
  },
  {
   "cell_type": "code",
   "execution_count": 70,
   "id": "eae754e5",
   "metadata": {},
   "outputs": [],
   "source": [
    "# no index values,order change..but added used.."
   ]
  },
  {
   "cell_type": "code",
   "execution_count": 71,
   "id": "9b570e09",
   "metadata": {},
   "outputs": [],
   "source": [
    "fruits = {'apple', 'cherry','banana', 'grapes'}"
   ]
  },
  {
   "cell_type": "code",
   "execution_count": 72,
   "id": "1859c165",
   "metadata": {},
   "outputs": [
    {
     "data": {
      "text/plain": [
       "{'apple', 'banana', 'cherry', 'grapes'}"
      ]
     },
     "execution_count": 72,
     "metadata": {},
     "output_type": "execute_result"
    }
   ],
   "source": [
    "fruits"
   ]
  },
  {
   "cell_type": "markdown",
   "id": "15624ba7",
   "metadata": {},
   "source": [
    "Dictionary and Key values"
   ]
  },
  {
   "cell_type": "code",
   "execution_count": 73,
   "id": "e795cd23",
   "metadata": {},
   "outputs": [],
   "source": [
    "my_data = {\n",
    "    \"name\" : \"sundar\",\n",
    "    \"age\" : \"20\"\n",
    "}\n"
   ]
  },
  {
   "cell_type": "code",
   "execution_count": 74,
   "id": "a06b643d",
   "metadata": {},
   "outputs": [
    {
     "data": {
      "text/plain": [
       "{'name': 'sundar', 'age': '20'}"
      ]
     },
     "execution_count": 74,
     "metadata": {},
     "output_type": "execute_result"
    }
   ],
   "source": [
    "my_data"
   ]
  },
  {
   "cell_type": "code",
   "execution_count": 75,
   "id": "a6af05c9",
   "metadata": {},
   "outputs": [
    {
     "data": {
      "text/plain": [
       "'sundar'"
      ]
     },
     "execution_count": 75,
     "metadata": {},
     "output_type": "execute_result"
    }
   ],
   "source": [
    "my_data.get(\"name\")"
   ]
  },
  {
   "cell_type": "code",
   "execution_count": 76,
   "id": "fcb308bf",
   "metadata": {},
   "outputs": [],
   "source": [
    "#updated"
   ]
  },
  {
   "cell_type": "code",
   "execution_count": 77,
   "id": "7498ac7a",
   "metadata": {},
   "outputs": [],
   "source": [
    "my_data[\"age\"] = \"21\""
   ]
  },
  {
   "cell_type": "code",
   "execution_count": 78,
   "id": "b51390de",
   "metadata": {},
   "outputs": [
    {
     "data": {
      "text/plain": [
       "'21'"
      ]
     },
     "execution_count": 78,
     "metadata": {},
     "output_type": "execute_result"
    }
   ],
   "source": [
    "my_data.get(\"age\")"
   ]
  },
  {
   "cell_type": "markdown",
   "id": "c6940583",
   "metadata": {},
   "source": [
    "IF, ELIF, ELSE conditions"
   ]
  },
  {
   "cell_type": "code",
   "execution_count": 79,
   "id": "3e914699",
   "metadata": {},
   "outputs": [
    {
     "name": "stdout",
     "output_type": "stream",
     "text": [
      "You can vote in election\n"
     ]
    }
   ],
   "source": [
    "age = 20\n",
    "if age > 18 :\n",
    "    print(\"You can vote in election\")\n",
    "elif age == 18 :\n",
    "    print(\"Apply for vote id\")\n",
    "else:\n",
    "    print(\"You have to wait till 18\")\n",
    "    \n",
    "    "
   ]
  },
  {
   "cell_type": "code",
   "execution_count": 80,
   "id": "62904845",
   "metadata": {},
   "outputs": [
    {
     "name": "stdout",
     "output_type": "stream",
     "text": [
      "You have to wait till 18\n"
     ]
    }
   ],
   "source": [
    "age = 15\n",
    "if age > 18 :\n",
    "    print(\"You can vote in election\")\n",
    "elif age == 18 :\n",
    "    print(\"Apply for vote id\")\n",
    "else:\n",
    "    print(\"You have to wait till 18\")"
   ]
  },
  {
   "cell_type": "code",
   "execution_count": 81,
   "id": "b4c828d9",
   "metadata": {},
   "outputs": [
    {
     "name": "stdout",
     "output_type": "stream",
     "text": [
      "Incorrect\n"
     ]
    }
   ],
   "source": [
    "a,b = 10,20  #and\n",
    "if a==10 and b==10 :\n",
    "    print(\"correct\")\n",
    "else:\n",
    "    print(\"Incorrect\")"
   ]
  },
  {
   "cell_type": "code",
   "execution_count": 82,
   "id": "e35078af",
   "metadata": {},
   "outputs": [
    {
     "name": "stdout",
     "output_type": "stream",
     "text": [
      "correct\n"
     ]
    }
   ],
   "source": [
    "a,b = 10,20  \n",
    "if a==10 and b==20 :\n",
    "    print(\"correct\")\n",
    "else:\n",
    "    print(\"Incorrect\")"
   ]
  },
  {
   "cell_type": "code",
   "execution_count": 83,
   "id": "cbcc6821",
   "metadata": {},
   "outputs": [
    {
     "name": "stdout",
     "output_type": "stream",
     "text": [
      "correct\n"
     ]
    }
   ],
   "source": [
    "a,b = 10,20  #or\n",
    "if a==10 or b==10 :\n",
    "    print(\"correct\")\n",
    "else:\n",
    "    print(\"Incorrect\")"
   ]
  },
  {
   "cell_type": "code",
   "execution_count": 84,
   "id": "fe5b5fbe",
   "metadata": {},
   "outputs": [
    {
     "name": "stdout",
     "output_type": "stream",
     "text": [
      "correct\n",
      "Hai\n"
     ]
    }
   ],
   "source": [
    "a,b = 10,20 #nesting of if\n",
    "if a==100 or b==20 :\n",
    "    print(\"correct\")\n",
    "    if b==20 :\n",
    "        print(\"Hai\")\n",
    "else:\n",
    "    print(\"Incorrect\")"
   ]
  },
  {
   "cell_type": "markdown",
   "id": "4c6e3409",
   "metadata": {},
   "source": [
    "FUNCTIONS DEF:"
   ]
  },
  {
   "cell_type": "code",
   "execution_count": 85,
   "id": "538708c1",
   "metadata": {},
   "outputs": [
    {
     "name": "stdout",
     "output_type": "stream",
     "text": [
      "60\n",
      "60\n"
     ]
    }
   ],
   "source": [
    "def addition():\n",
    "    a,b = 24,36\n",
    "    print(a+b)\n",
    "   \n",
    "addition()\n",
    "addition()"
   ]
  },
  {
   "cell_type": "code",
   "execution_count": 86,
   "id": "59bf4536",
   "metadata": {},
   "outputs": [
    {
     "name": "stdout",
     "output_type": "stream",
     "text": [
      "45\n",
      "70\n"
     ]
    }
   ],
   "source": [
    "def addition(a,b):  #subtract,multiply,division\n",
    "    print(a+b)\n",
    "   \n",
    "addition(23,22)\n",
    "addition(45,25)"
   ]
  },
  {
   "cell_type": "code",
   "execution_count": 87,
   "id": "0338af6e",
   "metadata": {},
   "outputs": [
    {
     "name": "stdout",
     "output_type": "stream",
     "text": [
      "Hai,Maalu\n",
      "Hai,Sha\n"
     ]
    }
   ],
   "source": [
    "def hi(name):\n",
    "    print(\"Hai,\" + name)\n",
    "    \n",
    "hi(\"Maalu\")\n",
    "hi(\"Sha\")"
   ]
  },
  {
   "cell_type": "code",
   "execution_count": 88,
   "id": "48add4fe",
   "metadata": {},
   "outputs": [],
   "source": [
    "# return"
   ]
  },
  {
   "cell_type": "code",
   "execution_count": 89,
   "id": "77dfdff8",
   "metadata": {},
   "outputs": [
    {
     "data": {
      "text/plain": [
       "100"
      ]
     },
     "execution_count": 89,
     "metadata": {},
     "output_type": "execute_result"
    }
   ],
   "source": [
    "def fun():\n",
    "    return 100\n",
    "fun()"
   ]
  },
  {
   "cell_type": "code",
   "execution_count": 90,
   "id": "273f3499",
   "metadata": {},
   "outputs": [
    {
     "data": {
      "text/plain": [
       "500"
      ]
     },
     "execution_count": 90,
     "metadata": {},
     "output_type": "execute_result"
    }
   ],
   "source": [
    "def fun(a):\n",
    "    return a*100\n",
    "fun(5)"
   ]
  },
  {
   "cell_type": "markdown",
   "id": "bc39343c",
   "metadata": {},
   "source": [
    "LOOP,RANGE\n",
    "FOR,BREAK &..."
   ]
  },
  {
   "cell_type": "code",
   "execution_count": 91,
   "id": "15ee5f23",
   "metadata": {},
   "outputs": [],
   "source": [
    "# for "
   ]
  },
  {
   "cell_type": "code",
   "execution_count": 92,
   "id": "c3b48349",
   "metadata": {},
   "outputs": [
    {
     "name": "stdout",
     "output_type": "stream",
     "text": [
      "0\n",
      "1\n",
      "2\n",
      "3\n",
      "4\n"
     ]
    }
   ],
   "source": [
    "for i in range(5):\n",
    "    print(i)"
   ]
  },
  {
   "cell_type": "code",
   "execution_count": 93,
   "id": "6a510df5",
   "metadata": {},
   "outputs": [
    {
     "name": "stdout",
     "output_type": "stream",
     "text": [
      "V\n",
      "I\n",
      "C\n",
      "K\n",
      "N\n",
      "E\n",
      "S\n",
      "H\n"
     ]
    }
   ],
   "source": [
    "Name = \"VICKNESH\"\n",
    "for letters in Name:\n",
    "    print(letters)"
   ]
  },
  {
   "cell_type": "code",
   "execution_count": 94,
   "id": "5abcd1cd",
   "metadata": {},
   "outputs": [
    {
     "name": "stdout",
     "output_type": "stream",
     "text": [
      "apple\n",
      "banana\n",
      "cherry\n",
      "orange\n"
     ]
    }
   ],
   "source": [
    "fruits = ['apple', 'banana', 'cherry', 'orange']\n",
    "for fruit in fruits:\n",
    "    print(fruit)"
   ]
  },
  {
   "cell_type": "code",
   "execution_count": 95,
   "id": "2f7682ad",
   "metadata": {},
   "outputs": [
    {
     "name": "stdout",
     "output_type": "stream",
     "text": [
      ", is not present\n",
      ", is not present\n",
      ", is not present\n",
      ", is present\n",
      ", is not present\n",
      ", is not present\n",
      ", is not present\n",
      ", is not present\n"
     ]
    }
   ],
   "source": [
    "for i in \"Hai, sir\":\n",
    "    if i == ',':\n",
    "        print(', is present')\n",
    "    else:\n",
    "        print(', is not present')\n",
    "        "
   ]
  },
  {
   "cell_type": "code",
   "execution_count": 96,
   "id": "ddc60a2b",
   "metadata": {},
   "outputs": [],
   "source": [
    "# break"
   ]
  },
  {
   "cell_type": "code",
   "execution_count": 97,
   "id": "5a66ecc9",
   "metadata": {},
   "outputs": [
    {
     "name": "stdout",
     "output_type": "stream",
     "text": [
      ", is not present\n",
      ", is not present\n",
      ", is not present\n",
      ", is present\n"
     ]
    }
   ],
   "source": [
    "for i in \"Hai, sir\":\n",
    "    if i == ',':\n",
    "        print(', is present')\n",
    "        break\n",
    "    else:\n",
    "        print(', is not present')"
   ]
  },
  {
   "cell_type": "code",
   "execution_count": 98,
   "id": "f1e0c2f6",
   "metadata": {},
   "outputs": [],
   "source": [
    "# range"
   ]
  },
  {
   "cell_type": "code",
   "execution_count": 99,
   "id": "508c50ea",
   "metadata": {},
   "outputs": [
    {
     "name": "stdout",
     "output_type": "stream",
     "text": [
      "2\n",
      "3\n",
      "4\n",
      "5\n"
     ]
    }
   ],
   "source": [
    "for numbers in range(2,6):\n",
    "    print(numbers)"
   ]
  },
  {
   "cell_type": "code",
   "execution_count": 100,
   "id": "5b668e90",
   "metadata": {},
   "outputs": [
    {
     "name": "stdout",
     "output_type": "stream",
     "text": [
      "10\n",
      "12\n",
      "14\n",
      "16\n",
      "18\n"
     ]
    }
   ],
   "source": [
    "for numbers in range(10, 20, 2):\n",
    "    print(numbers)"
   ]
  },
  {
   "cell_type": "code",
   "execution_count": 101,
   "id": "5b3e235b",
   "metadata": {},
   "outputs": [
    {
     "name": "stdout",
     "output_type": "stream",
     "text": [
      "0\n",
      "1\n",
      "2\n",
      "3\n",
      "All numbers are finished\n"
     ]
    }
   ],
   "source": [
    "for numbers in range(4):\n",
    "    print(numbers)\n",
    "else:\n",
    "    print(\"All numbers are finished\")"
   ]
  },
  {
   "cell_type": "code",
   "execution_count": 102,
   "id": "70f39672",
   "metadata": {},
   "outputs": [],
   "source": [
    "# nesting of for"
   ]
  },
  {
   "cell_type": "code",
   "execution_count": 103,
   "id": "0b284c59",
   "metadata": {},
   "outputs": [
    {
     "name": "stdout",
     "output_type": "stream",
     "text": [
      "0\n",
      "0\n",
      "1\n",
      "1\n",
      "0\n",
      "1\n",
      "2\n",
      "0\n",
      "1\n",
      "3\n",
      "0\n",
      "1\n"
     ]
    }
   ],
   "source": [
    "for i in range(4):\n",
    "    print(i)\n",
    "    for j in range(2):\n",
    "        print(j)"
   ]
  },
  {
   "cell_type": "markdown",
   "id": "d56ad134",
   "metadata": {},
   "source": [
    "WHILE AND LAMBDA"
   ]
  },
  {
   "cell_type": "code",
   "execution_count": 104,
   "id": "0c4fbd69",
   "metadata": {},
   "outputs": [
    {
     "name": "stdout",
     "output_type": "stream",
     "text": [
      "1\n",
      "2\n",
      "3\n",
      "4\n",
      "over\n"
     ]
    }
   ],
   "source": [
    "i = 1\n",
    "while i < 5:\n",
    "    print(i)\n",
    "    i += 1\n",
    "else:\n",
    "    print(\"over\")"
   ]
  },
  {
   "cell_type": "code",
   "execution_count": 105,
   "id": "3105ea77",
   "metadata": {},
   "outputs": [
    {
     "data": {
      "text/plain": [
       "30"
      ]
     },
     "execution_count": 105,
     "metadata": {},
     "output_type": "execute_result"
    }
   ],
   "source": [
    "add = lambda number: number + 10\n",
    "add(20)"
   ]
  },
  {
   "cell_type": "code",
   "execution_count": 106,
   "id": "f94a9672",
   "metadata": {},
   "outputs": [
    {
     "data": {
      "text/plain": [
       "100"
      ]
     },
     "execution_count": 106,
     "metadata": {},
     "output_type": "execute_result"
    }
   ],
   "source": [
    "add(90)"
   ]
  },
  {
   "cell_type": "markdown",
   "id": "0a100411",
   "metadata": {},
   "source": [
    "Inputs user data"
   ]
  },
  {
   "cell_type": "code",
   "execution_count": 107,
   "id": "255fd7c6",
   "metadata": {},
   "outputs": [
    {
     "name": "stdout",
     "output_type": "stream",
     "text": [
      "virat\n"
     ]
    },
    {
     "data": {
      "text/plain": [
       "'virat'"
      ]
     },
     "execution_count": 107,
     "metadata": {},
     "output_type": "execute_result"
    }
   ],
   "source": [
    "name = input()\n",
    "name"
   ]
  },
  {
   "cell_type": "code",
   "execution_count": 108,
   "id": "33cd5b18",
   "metadata": {},
   "outputs": [
    {
     "name": "stdout",
     "output_type": "stream",
     "text": [
      "dhoni\n"
     ]
    },
    {
     "data": {
      "text/plain": [
       "'my name is dhoni'"
      ]
     },
     "execution_count": 108,
     "metadata": {},
     "output_type": "execute_result"
    }
   ],
   "source": [
    "name = input()\n",
    "\"my name is \" + name"
   ]
  },
  {
   "cell_type": "code",
   "execution_count": 109,
   "id": "c5eda563",
   "metadata": {},
   "outputs": [
    {
     "name": "stdout",
     "output_type": "stream",
     "text": [
      "Type your namesakthi\n"
     ]
    },
    {
     "data": {
      "text/plain": [
       "'my name is sakthi'"
      ]
     },
     "execution_count": 109,
     "metadata": {},
     "output_type": "execute_result"
    }
   ],
   "source": [
    "name = input(\"Type your name\")\n",
    "\"my name is \" + name"
   ]
  },
  {
   "cell_type": "code",
   "execution_count": 110,
   "id": "82d1d621",
   "metadata": {},
   "outputs": [
    {
     "name": "stdout",
     "output_type": "stream",
     "text": [
      "enter the number1:10\n",
      "enter the number2:30\n"
     ]
    },
    {
     "data": {
      "text/plain": [
       "40"
      ]
     },
     "execution_count": 110,
     "metadata": {},
     "output_type": "execute_result"
    }
   ],
   "source": [
    "number1 = int(input('enter the number1:'))\n",
    "number2 = int(input('enter the number2:'))\n",
    "number1 + number2"
   ]
  },
  {
   "cell_type": "markdown",
   "id": "1cb67791",
   "metadata": {},
   "source": [
    "# simple calculator"
   ]
  },
  {
   "cell_type": "code",
   "execution_count": 111,
   "id": "3f929d53",
   "metadata": {},
   "outputs": [
    {
     "name": "stdout",
     "output_type": "stream",
     "text": [
      "SELECT OPERATIONS\n",
      "1.add\n",
      "2.sub\n",
      "3.mul\n",
      "4.div\n",
      "\n",
      "enter your choice:1\n",
      "enter the number1:25\n",
      "enter the number2:75\n",
      "100\n"
     ]
    }
   ],
   "source": [
    "def add1(q,w):\n",
    "    return q + w\n",
    "def sub1(q, w):\n",
    "    return q - w\n",
    "def mul1(q, w):\n",
    "    return q * w\n",
    "def div1(q, w):\n",
    "    return q / w\n",
    "print(\"\"\"SELECT OPERATIONS\n",
    "1.add\n",
    "2.sub\n",
    "3.mul\n",
    "4.div\n",
    "\"\"\")\n",
    "choice = int(input(\"enter your choice:\"))\n",
    "q = int(input(\"enter the number1:\"))\n",
    "w = int(input(\"enter the number2:\"))\n",
    "if choice==1 :\n",
    "    print(add1(q, w))\n",
    "elif choice==2 :\n",
    "    print(sub1(q, w))\n",
    "elif choice==3 :\n",
    "    print(mul1(q, w))\n",
    "elif choice==4 :\n",
    "    print(div1(q, w))\n",
    "else:\n",
    "    print(\"select the correct choice\")"
   ]
  },
  {
   "cell_type": "code",
   "execution_count": 112,
   "id": "73c93a1a",
   "metadata": {},
   "outputs": [
    {
     "name": "stdout",
     "output_type": "stream",
     "text": [
      "SELECT OPERATIONS\n",
      "1.add\n",
      "2.sub\n",
      "3.mul\n",
      "4.div\n",
      "\n",
      "enter your choice:4\n",
      "enter the number1:50\n",
      "enter the number2:2\n",
      "25.0\n"
     ]
    }
   ],
   "source": [
    "def add1(q,w):\n",
    "    return q + w\n",
    "def sub1(q, w):\n",
    "    return q - w\n",
    "def mul1(q, w):\n",
    "    return q * w\n",
    "def div1(q, w):\n",
    "    return q / w\n",
    "print(\"\"\"SELECT OPERATIONS\n",
    "1.add\n",
    "2.sub\n",
    "3.mul\n",
    "4.div\n",
    "\"\"\")\n",
    "choice = int(input(\"enter your choice:\"))\n",
    "q = int(input(\"enter the number1:\"))\n",
    "w = int(input(\"enter the number2:\"))\n",
    "if choice==1 :\n",
    "    print(add1(q, w))\n",
    "elif choice==2 :\n",
    "    print(sub1(q, w))\n",
    "elif choice==3 :\n",
    "    print(mul1(q, w))\n",
    "elif choice==4 :\n",
    "    print(div1(q, w))\n",
    "else:\n",
    "    print(\"select the correct choice\")"
   ]
  },
  {
   "cell_type": "code",
   "execution_count": null,
   "id": "6713b71a",
   "metadata": {},
   "outputs": [],
   "source": []
  }
 ],
 "metadata": {
  "kernelspec": {
   "display_name": "Python 3 (ipykernel)",
   "language": "python",
   "name": "python3"
  },
  "language_info": {
   "codemirror_mode": {
    "name": "ipython",
    "version": 3
   },
   "file_extension": ".py",
   "mimetype": "text/x-python",
   "name": "python",
   "nbconvert_exporter": "python",
   "pygments_lexer": "ipython3",
   "version": "3.9.7"
  }
 },
 "nbformat": 4,
 "nbformat_minor": 5
}
