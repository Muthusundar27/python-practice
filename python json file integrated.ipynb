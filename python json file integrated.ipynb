{
 "cells": [
  {
   "cell_type": "code",
   "execution_count": 1,
   "id": "20ca14df",
   "metadata": {},
   "outputs": [],
   "source": [
    "# normal concept"
   ]
  },
  {
   "cell_type": "code",
   "execution_count": 2,
   "id": "f45b35e4",
   "metadata": {},
   "outputs": [],
   "source": [
    "dictionery = {\"name\" : \"raj\", \"age\" : \"21\"}"
   ]
  },
  {
   "cell_type": "code",
   "execution_count": 3,
   "id": "008a9bb7",
   "metadata": {},
   "outputs": [
    {
     "name": "stdout",
     "output_type": "stream",
     "text": [
      "enter the word: name\n",
      "raj\n"
     ]
    }
   ],
   "source": [
    "word = input(\"enter the word: \")\n",
    "\n",
    "def check(d) :\n",
    "    return dictionery[d]\n",
    "print(check(word))"
   ]
  },
  {
   "cell_type": "code",
   "execution_count": 4,
   "id": "0b32aa39",
   "metadata": {},
   "outputs": [],
   "source": [
    "import json"
   ]
  },
  {
   "cell_type": "code",
   "execution_count": 5,
   "id": "fe8833df",
   "metadata": {},
   "outputs": [
    {
     "name": "stdout",
     "output_type": "stream",
     "text": [
      "enter the word: name\n",
      "raj\n"
     ]
    }
   ],
   "source": [
    "jsonfile = json.load(open(\"data1.json\"))\n",
    "\n",
    "word = input(\"enter the word: \")\n",
    "\n",
    "def check(d) :\n",
    "    return jsonfile[d]\n",
    "print(check(word))"
   ]
  },
  {
   "cell_type": "code",
   "execution_count": 6,
   "id": "160882a9",
   "metadata": {},
   "outputs": [
    {
     "name": "stdout",
     "output_type": "stream",
     "text": [
      "enter the word: teachers\n",
      "['sharm', 'maalu']\n"
     ]
    }
   ],
   "source": [
    "jsonfile = json.load(open(\"datas.json\"))\n",
    "\n",
    "word = input(\"enter the word: \")\n",
    "\n",
    "def check(d) :\n",
    "    return jsonfile[d]\n",
    "print(check(word))"
   ]
  },
  {
   "cell_type": "code",
   "execution_count": 7,
   "id": "54dcea48",
   "metadata": {},
   "outputs": [
    {
     "name": "stdout",
     "output_type": "stream",
     "text": [
      "enter the word: addressed\n",
      "thoothukudi\n",
      "thoothukudi\n"
     ]
    }
   ],
   "source": [
    "jsonfile = json.load(open(\"datas.json\"))\n",
    "\n",
    "word = input(\"enter the word: \")\n",
    "\n",
    "def check(d) :\n",
    "    return jsonfile[d]\n",
    "print(check(word))\n"
   ]
  },
  {
   "cell_type": "code",
   "execution_count": 8,
   "id": "ec4d769b",
   "metadata": {},
   "outputs": [
    {
     "name": "stdout",
     "output_type": "stream",
     "text": [
      "enter the word: asasas\n",
      "The word doesn't exist, please enter the correct word\n"
     ]
    }
   ],
   "source": [
    "jsonfile = json.load(open(\"datas.json\"))\n",
    "\n",
    "word = input(\"enter the word: \")\n",
    "\n",
    "def check(d) :\n",
    "    if d in jsonfile:\n",
    "        return jsonfile[d]\n",
    "    else:\n",
    "        return \"The word doesn't exist, please enter the correct word\"\n",
    "print(check(word))"
   ]
  },
  {
   "cell_type": "code",
   "execution_count": 9,
   "id": "62fe18cf",
   "metadata": {},
   "outputs": [
    {
     "name": "stdout",
     "output_type": "stream",
     "text": [
      "enter the word: students\n",
      "['sundar', 'karthi', 'gopikkz']\n"
     ]
    }
   ],
   "source": [
    "jsonfile = json.load(open(\"datas.json\"))\n",
    "\n",
    "word = input(\"enter the word: \")\n",
    "\n",
    "def check(d) :\n",
    "    if d in jsonfile:\n",
    "        return jsonfile[d]\n",
    "    else:\n",
    "        return \"The word doesn't exist, please enter the correct word\"\n",
    "print(check(word))"
   ]
  },
  {
   "cell_type": "markdown",
   "id": "dc120de3",
   "metadata": {},
   "source": [
    "case error"
   ]
  },
  {
   "cell_type": "code",
   "execution_count": 10,
   "id": "15d4e755",
   "metadata": {},
   "outputs": [
    {
     "name": "stdout",
     "output_type": "stream",
     "text": [
      "enter the word: Teachers\n",
      "The word doesn't exist, please enter the correct word\n"
     ]
    }
   ],
   "source": [
    "jsonfile = json.load(open(\"datas.json\"))\n",
    "\n",
    "word = input(\"enter the word: \")\n",
    "\n",
    "def check(d) :\n",
    "    if d in jsonfile:\n",
    "        return jsonfile[d]\n",
    "    else:\n",
    "        return \"The word doesn't exist, please enter the correct word\"\n",
    "print(check(word))"
   ]
  },
  {
   "cell_type": "code",
   "execution_count": 11,
   "id": "204b2792",
   "metadata": {},
   "outputs": [
    {
     "name": "stdout",
     "output_type": "stream",
     "text": [
      "enter the word: Teachers\n",
      "['sharm', 'maalu']\n"
     ]
    }
   ],
   "source": [
    "jsonfile = json.load(open(\"datas.json\"))\n",
    "\n",
    "word = input(\"enter the word: \")\n",
    "\n",
    "def check(d) :\n",
    "    d = d.lower()\n",
    "    if d in jsonfile:\n",
    "        return jsonfile[d]\n",
    "    else:\n",
    "        return \"The word doesn't exist, please enter the correct word\"\n",
    "print(check(word))"
   ]
  },
  {
   "cell_type": "code",
   "execution_count": 12,
   "id": "cdbc4612",
   "metadata": {},
   "outputs": [],
   "source": [
    "# did you mean concept"
   ]
  },
  {
   "cell_type": "code",
   "execution_count": 16,
   "id": "887a8dad",
   "metadata": {},
   "outputs": [
    {
     "name": "stdout",
     "output_type": "stream",
     "text": [
      "enter the word: teach\n",
      "None\n"
     ]
    }
   ],
   "source": [
    "jsonfile = json.load(open(\"datas.json\"))\n",
    "from difflib import get_close_matches\n",
    "\n",
    "word = input(\"enter the word: \")\n",
    "\n",
    "def check(d) :\n",
    "    d = d.lower()\n",
    "    if d in jsonfile:\n",
    "        return jsonfile[d]\n",
    "    elif len(get_close_matches(d,jsonfile.keys()))>0 :\n",
    "        \"Did you mean %s \" %get_close_matches(d,jsonfile.keys())[0]\n",
    "    else:\n",
    "        return \"The word doesn't exist, please enter the correct word\"\n",
    "print(check(word))"
   ]
  },
  {
   "cell_type": "code",
   "execution_count": 17,
   "id": "3d28b2ef",
   "metadata": {},
   "outputs": [
    {
     "name": "stdout",
     "output_type": "stream",
     "text": [
      "enter the word: stude\n",
      "Did you mean ['students'] Enter Y for Yes, N for No y\n",
      "['sundar', 'karthi', 'gopikkz']\n"
     ]
    }
   ],
   "source": [
    "jsonfile = json.load(open(\"datas.json\"))\n",
    "from difflib import get_close_matches\n",
    "\n",
    "word = input(\"enter the word: \")\n",
    "\n",
    "def check(d) :\n",
    "    d = d.lower()\n",
    "    if d in jsonfile:\n",
    "        return jsonfile[d]\n",
    "    elif len(get_close_matches(d,jsonfile.keys()))>0 :\n",
    "        choice = input(\"Did you mean %s Enter Y for Yes, N for No \" %get_close_matches(d,jsonfile.keys()))\n",
    "        if choice.upper() == \"Y\":\n",
    "            return jsonfile[get_close_matches(d,jsonfile.keys())[0]]\n",
    "        elif choice.upper() == \"N\":\n",
    "            return \"The word doesn't exist, please enter the correct word\"\n",
    "        else:\n",
    "            return \"You entered the wrong choice\"\n",
    "    \n",
    "    else:\n",
    "        return \"The word doesn't exist, please enter the correct word\"\n",
    "print(check(word))"
   ]
  },
  {
   "cell_type": "code",
   "execution_count": 18,
   "id": "11f2d672",
   "metadata": {},
   "outputs": [
    {
     "name": "stdout",
     "output_type": "stream",
     "text": [
      "enter the word: teach\n",
      "Did you mean teachers Enter Y for Yes, N for No y\n",
      "sharm\n",
      "maalu\n"
     ]
    }
   ],
   "source": [
    "jsonfile = json.load(open(\"datas.json\"))\n",
    "from difflib import get_close_matches\n",
    "\n",
    "word = input(\"enter the word: \")\n",
    "\n",
    "def check(d) :\n",
    "    d = d.lower()\n",
    "    if d in jsonfile:\n",
    "        return jsonfile[d]\n",
    "    elif len(get_close_matches(d,jsonfile.keys()))>0 :\n",
    "        choice = input(\"Did you mean %s Enter Y for Yes, N for No \" %get_close_matches(d,jsonfile.keys())[0])\n",
    "        if choice.upper() == \"Y\":\n",
    "            return jsonfile[get_close_matches(d,jsonfile.keys())[0]]\n",
    "        elif choice.upper() == \"N\":\n",
    "            return \"The word doesn't exist, please enter the correct word\"\n",
    "        else:\n",
    "            return \"You entered the wrong choice\"\n",
    "    \n",
    "    else:\n",
    "        return \"The word doesn't exist, please enter the correct word\"\n",
    "result=check(word)\n",
    "if  type(result) == list:\n",
    "    for i in result:\n",
    "        print(i)"
   ]
  }
 ],
 "metadata": {
  "kernelspec": {
   "display_name": "Python 3 (ipykernel)",
   "language": "python",
   "name": "python3"
  },
  "language_info": {
   "codemirror_mode": {
    "name": "ipython",
    "version": 3
   },
   "file_extension": ".py",
   "mimetype": "text/x-python",
   "name": "python",
   "nbconvert_exporter": "python",
   "pygments_lexer": "ipython3",
   "version": "3.9.7"
  }
 },
 "nbformat": 4,
 "nbformat_minor": 5
}
