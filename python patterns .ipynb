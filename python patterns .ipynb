{
 "cells": [
  {
   "cell_type": "markdown",
   "id": "e2d79bd8",
   "metadata": {},
   "source": [
    "1. Printing ash '#' in Right Angle Triangle Shape | Ash Pattern"
   ]
  },
  {
   "cell_type": "code",
   "execution_count": 2,
   "id": "cbc2dffa",
   "metadata": {},
   "outputs": [
    {
     "name": "stdout",
     "output_type": "stream",
     "text": [
      "Enter the number of rows: 5\n",
      "# \n",
      "# # \n",
      "# # # \n",
      "# # # # \n",
      "# # # # # \n"
     ]
    }
   ],
   "source": [
    "num = int(input(\"Enter the number of rows: \"))\n",
    "for i in range(1,num+1):\n",
    "    for j in range(1,i+1):\n",
    "        print(\"#\", end=\" \")\n",
    "    print()"
   ]
  },
  {
   "cell_type": "markdown",
   "id": "4d677597",
   "metadata": {},
   "source": [
    "2. Printing Ash '#' in Right Angle Triangle Shape"
   ]
  },
  {
   "cell_type": "code",
   "execution_count": 3,
   "id": "43658565",
   "metadata": {},
   "outputs": [
    {
     "name": "stdout",
     "output_type": "stream",
     "text": [
      "Enter the number of rows: 4\n",
      "# \n",
      "# # # \n",
      "# # # # # \n",
      "# # # # # # # \n"
     ]
    }
   ],
   "source": [
    "num = int(input(\"Enter the number of rows: \"))\n",
    "k=1\n",
    "for i in range(1,num+1):\n",
    "    for j in range(1,k+1):\n",
    "        print(\"#\", end=\" \")\n",
    "    k=k+2\n",
    "    print()"
   ]
  },
  {
   "cell_type": "markdown",
   "id": "c1a76b3f",
   "metadata": {},
   "source": [
    "3. Printing Ash '#' in Pyramid Shape"
   ]
  },
  {
   "cell_type": "code",
   "execution_count": 2,
   "id": "34c2df96",
   "metadata": {},
   "outputs": [
    {
     "name": "stdout",
     "output_type": "stream",
     "text": [
      "Enter the number of rows: 4\n",
      "   # \n",
      "  # # \n",
      " # # # \n",
      "# # # # \n"
     ]
    }
   ],
   "source": [
    "num = int(input(\"Enter the number of rows: \"))\n",
    "for i in range(0,num):\n",
    "    for j in range(0,num-i-1):\n",
    "        print(end=\" \")\n",
    "    for j in range(0,i+1):\n",
    "        print(\"#\", end=\" \")\n",
    "    print()"
   ]
  },
  {
   "cell_type": "markdown",
   "id": "638a008b",
   "metadata": {},
   "source": [
    "4. Printing Ash '#' in Reverse Pyramid Shape"
   ]
  },
  {
   "cell_type": "code",
   "execution_count": 15,
   "id": "0b0b2320",
   "metadata": {},
   "outputs": [
    {
     "name": "stdout",
     "output_type": "stream",
     "text": [
      "Enter the number of rows: 4\n",
      "# # # # \n",
      " # # # \n",
      "  # # \n",
      "   # \n"
     ]
    }
   ],
   "source": [
    "num = int(input(\"Enter the number of rows: \"))\n",
    "for i in range(0,num):\n",
    "    for j in range(0,i):\n",
    "        print(end=\" \")\n",
    "    for j in range(0,num-i):\n",
    "        print(\"#\", end=\" \")\n",
    "    print()"
   ]
  },
  {
   "cell_type": "markdown",
   "id": "65c28674",
   "metadata": {},
   "source": [
    "5. Printing Ash '#' in Diamond Shape"
   ]
  },
  {
   "cell_type": "code",
   "execution_count": 9,
   "id": "9fe1eab8",
   "metadata": {},
   "outputs": [
    {
     "name": "stdout",
     "output_type": "stream",
     "text": [
      "Enter the number of rows: 3\n",
      "  # \n",
      " # # \n",
      "# # # \n",
      " # # \n",
      "  # \n"
     ]
    }
   ],
   "source": [
    "num = int(input(\"Enter the number of rows: \"))\n",
    "for i in range(0,num):\n",
    "    print(\" \"*(num-i-1)+\"# \"*(i+1))\n",
    "for j in range(num-1,0,-1):\n",
    "    print(\" \"*(num-j)+\"# \"*(j))"
   ]
  },
  {
   "cell_type": "markdown",
   "id": "f934e2ec",
   "metadata": {},
   "source": [
    "6.  Printing Ash '#' in Right Angle Triangle Shape"
   ]
  },
  {
   "cell_type": "code",
   "execution_count": 11,
   "id": "3d3b8662",
   "metadata": {},
   "outputs": [
    {
     "name": "stdout",
     "output_type": "stream",
     "text": [
      "Enter the number of rows: 5\n",
      "# # # # # \n",
      "# # # # \n",
      "# # # \n",
      "# # \n",
      "# \n"
     ]
    }
   ],
   "source": [
    "num = int(input(\"Enter the number of rows: \"))\n",
    "for i in range(0,num):\n",
    "    for j in range(0,num-i):\n",
    "        print(\"#\", end=\" \")\n",
    "    print()"
   ]
  },
  {
   "cell_type": "markdown",
   "id": "342fc7c2",
   "metadata": {},
   "source": [
    "7.  Printing Ash '#' in A Shape"
   ]
  },
  {
   "cell_type": "code",
   "execution_count": 13,
   "id": "1c1655e9",
   "metadata": {},
   "outputs": [
    {
     "name": "stdout",
     "output_type": "stream",
     "text": [
      " ### \n",
      "#   #\n",
      "#   #\n",
      "#####\n",
      "#   #\n",
      "#   #\n",
      "#   #\n"
     ]
    }
   ],
   "source": [
    "for row in range(7):\n",
    "    for col in range(5):\n",
    "        if ((col==0 or col==4) and row!=0) or ((row==0 or row==3) and col>0 and col<4):\n",
    "            print(\"#\", end=\"\")\n",
    "        else:\n",
    "            print(end=\" \")\n",
    "    print()"
   ]
  },
  {
   "cell_type": "markdown",
   "id": "dcef7c35",
   "metadata": {},
   "source": [
    "8. Printing Ash '#' in B Shape"
   ]
  },
  {
   "cell_type": "code",
   "execution_count": 18,
   "id": "499ded3c",
   "metadata": {},
   "outputs": [
    {
     "name": "stdout",
     "output_type": "stream",
     "text": [
      "#####\n",
      "#   #\n",
      "#   #\n",
      "#####\n",
      "#   #\n",
      "#   #\n",
      "#####\n"
     ]
    }
   ],
   "source": [
    "for row in range(7):\n",
    "    for col in range(5):\n",
    "        if((col==0 or col==4) or (row==0 or row==3 or row==6) and col>0 and col<4):\n",
    "            print(\"#\",end=\"\")\n",
    "        else:\n",
    "            print(end=\" \")\n",
    "    print()"
   ]
  },
  {
   "cell_type": "code",
   "execution_count": null,
   "id": "08dae1cb",
   "metadata": {},
   "outputs": [],
   "source": []
  }
 ],
 "metadata": {
  "kernelspec": {
   "display_name": "Python 3 (ipykernel)",
   "language": "python",
   "name": "python3"
  },
  "language_info": {
   "codemirror_mode": {
    "name": "ipython",
    "version": 3
   },
   "file_extension": ".py",
   "mimetype": "text/x-python",
   "name": "python",
   "nbconvert_exporter": "python",
   "pygments_lexer": "ipython3",
   "version": "3.9.7"
  }
 },
 "nbformat": 4,
 "nbformat_minor": 5
}
