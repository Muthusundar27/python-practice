{
 "cells": [
  {
   "cell_type": "markdown",
   "id": "1338da82",
   "metadata": {},
   "source": [
    " METHOD OVERLOADING"
   ]
  },
  {
   "cell_type": "code",
   "execution_count": 1,
   "id": "fdbc556a",
   "metadata": {},
   "outputs": [
    {
     "name": "stdout",
     "output_type": "stream",
     "text": [
      "Sum is: 6\n"
     ]
    },
    {
     "ename": "TypeError",
     "evalue": "sum() missing 1 required positional argument: 'c'",
     "output_type": "error",
     "traceback": [
      "\u001b[1;31m---------------------------------------------------------------------------\u001b[0m",
      "\u001b[1;31mTypeError\u001b[0m                                 Traceback (most recent call last)",
      "\u001b[1;32m~\\AppData\\Local\\Temp/ipykernel_17760/1278338136.py\u001b[0m in \u001b[0;36m<module>\u001b[1;34m\u001b[0m\n\u001b[0;32m     11\u001b[0m \u001b[0mobj\u001b[0m \u001b[1;33m=\u001b[0m \u001b[0mOverloadExample\u001b[0m\u001b[1;33m(\u001b[0m\u001b[1;33m)\u001b[0m\u001b[1;33m\u001b[0m\u001b[1;33m\u001b[0m\u001b[0m\n\u001b[0;32m     12\u001b[0m \u001b[0mobj\u001b[0m\u001b[1;33m.\u001b[0m\u001b[0msum\u001b[0m\u001b[1;33m(\u001b[0m\u001b[1;36m1\u001b[0m\u001b[1;33m,\u001b[0m\u001b[1;36m2\u001b[0m\u001b[1;33m,\u001b[0m\u001b[1;36m3\u001b[0m\u001b[1;33m)\u001b[0m\u001b[1;33m\u001b[0m\u001b[1;33m\u001b[0m\u001b[0m\n\u001b[1;32m---> 13\u001b[1;33m \u001b[0mobj\u001b[0m\u001b[1;33m.\u001b[0m\u001b[0msum\u001b[0m\u001b[1;33m(\u001b[0m\u001b[1;36m4\u001b[0m\u001b[1;33m,\u001b[0m \u001b[1;36m5\u001b[0m\u001b[1;33m)\u001b[0m\u001b[1;33m\u001b[0m\u001b[1;33m\u001b[0m\u001b[0m\n\u001b[0m",
      "\u001b[1;31mTypeError\u001b[0m: sum() missing 1 required positional argument: 'c'"
     ]
    }
   ],
   "source": [
    "class OverloadExample:\n",
    "    def sum(self, a, b):\n",
    "        s = a + b\n",
    "        print('Sum is:', s)\n",
    "\n",
    "    def sum(self, a, b, c):\n",
    "        s = a + b + c\n",
    "        print('Sum is:', s)\n",
    "\n",
    "\n",
    "obj = OverloadExample()\n",
    "obj.sum(1,2,3)\n",
    "obj.sum(4, 5)"
   ]
  },
  {
   "cell_type": "code",
   "execution_count": 2,
   "id": "76e174b3",
   "metadata": {},
   "outputs": [],
   "source": [
    "# Avoid this error i used this method"
   ]
  },
  {
   "cell_type": "code",
   "execution_count": 3,
   "id": "f16d7a06",
   "metadata": {},
   "outputs": [
    {
     "name": "stdout",
     "output_type": "stream",
     "text": [
      "Sum is: 10\n",
      "Sum is: 17\n"
     ]
    }
   ],
   "source": [
    "class overloaddemo:\n",
    "    def sum(self,a=None,b=None,c=None):\n",
    "        if a is not None and b is not None and c is not None:\n",
    "            s = a + b + c\n",
    "            print('Sum is:', s)\n",
    "        elif a is not None and b is not None:\n",
    "            s = a + b\n",
    "            print('Sum is:', s)\n",
    "        elif a is not None and c is not None:\n",
    "            s=a+c\n",
    "            print('Sum is:',s)\n",
    "\n",
    "m=overloaddemo()\n",
    "m.sum(5,c=5) #keyword argument\n",
    "m.sum(10,5,2)"
   ]
  },
  {
   "cell_type": "markdown",
   "id": "583e3a42",
   "metadata": {},
   "source": [
    "METHOD OVERRIDING"
   ]
  },
  {
   "cell_type": "code",
   "execution_count": 4,
   "id": "04b57fa2",
   "metadata": {},
   "outputs": [
    {
     "name": "stdout",
     "output_type": "stream",
     "text": [
      "Hai,Sundar\n"
     ]
    }
   ],
   "source": [
    "class overridingdemo:\n",
    "    def display(self):\n",
    "        print(\"Hai..\")\n",
    "    def display(self):\n",
    "        print(\"Hai,Sundar\")\n",
    "Obj=overridingdemo()\n",
    "Obj.display()"
   ]
  }
 ],
 "metadata": {
  "kernelspec": {
   "display_name": "Python 3 (ipykernel)",
   "language": "python",
   "name": "python3"
  },
  "language_info": {
   "codemirror_mode": {
    "name": "ipython",
    "version": 3
   },
   "file_extension": ".py",
   "mimetype": "text/x-python",
   "name": "python",
   "nbconvert_exporter": "python",
   "pygments_lexer": "ipython3",
   "version": "3.9.7"
  }
 },
 "nbformat": 4,
 "nbformat_minor": 5
}
