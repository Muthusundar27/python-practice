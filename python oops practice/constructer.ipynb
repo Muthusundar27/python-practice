{
 "cells": [
  {
   "cell_type": "markdown",
   "id": "ee0a20a0",
   "metadata": {},
   "source": [
    "Types of Constructor in Python"
   ]
  },
  {
   "cell_type": "code",
   "execution_count": 1,
   "id": "7329260c",
   "metadata": {},
   "outputs": [],
   "source": [
    "# 1. Non-Parameterized Constructor"
   ]
  },
  {
   "cell_type": "code",
   "execution_count": 2,
   "id": "b4831fb4",
   "metadata": {},
   "outputs": [
    {
     "name": "stdout",
     "output_type": "stream",
     "text": [
      "name:  sundar age:  20\n"
     ]
    }
   ],
   "source": [
    "class demo:\n",
    "    def __init__(self):\n",
    "        self.name=\"sundar\"\n",
    "        self.age=\"20\"\n",
    "    def get_details(self):\n",
    "        print(\"name: \",self.name , \"age: \",self.age)\n",
    "obj=demo()\n",
    "obj.get_details()"
   ]
  },
  {
   "cell_type": "code",
   "execution_count": 3,
   "id": "9beea9f0",
   "metadata": {},
   "outputs": [],
   "source": [
    "# 2. Parameterized Constructor"
   ]
  },
  {
   "cell_type": "code",
   "execution_count": 6,
   "id": "2ef27bd5",
   "metadata": {},
   "outputs": [
    {
     "name": "stdout",
     "output_type": "stream",
     "text": [
      "t.shirt cotton 20\n"
     ]
    }
   ],
   "source": [
    "class dress:\n",
    "    def __init__(self, cloth, type, quantity):\n",
    "        self.cloth = cloth\n",
    "        self.type = type\n",
    "        self.quantity = quantity\n",
    "    def get_details(self):\n",
    "        print(self.cloth, self.type, self.quantity)\n",
    "object=dress(\"t.shirt\", \"cotton\", 20)\n",
    "object.get_details()"
   ]
  },
  {
   "cell_type": "code",
   "execution_count": 7,
   "id": "13ad9995",
   "metadata": {},
   "outputs": [],
   "source": [
    "# 3.Default Constructor"
   ]
  },
  {
   "cell_type": "code",
   "execution_count": 8,
   "id": "662bd51b",
   "metadata": {},
   "outputs": [
    {
     "name": "stdout",
     "output_type": "stream",
     "text": [
      "maalu 24\n"
     ]
    }
   ],
   "source": [
    "class default:\n",
    "    name = \"maalu\"\n",
    "    age = \"24\"\n",
    "    def details(self):\n",
    "        print(self.name, self.age)\n",
    "obje=default()\n",
    "obje.details()"
   ]
  }
 ],
 "metadata": {
  "kernelspec": {
   "display_name": "Python 3 (ipykernel)",
   "language": "python",
   "name": "python3"
  },
  "language_info": {
   "codemirror_mode": {
    "name": "ipython",
    "version": 3
   },
   "file_extension": ".py",
   "mimetype": "text/x-python",
   "name": "python",
   "nbconvert_exporter": "python",
   "pygments_lexer": "ipython3",
   "version": "3.9.7"
  }
 },
 "nbformat": 4,
 "nbformat_minor": 5
}
