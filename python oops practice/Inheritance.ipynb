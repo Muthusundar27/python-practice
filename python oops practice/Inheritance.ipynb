{
 "cells": [
  {
   "cell_type": "markdown",
   "id": "3c669ad6",
   "metadata": {},
   "source": [
    "1.single inheritance"
   ]
  },
  {
   "cell_type": "code",
   "execution_count": 1,
   "id": "82414acd",
   "metadata": {},
   "outputs": [],
   "source": [
    "# Examples:"
   ]
  },
  {
   "cell_type": "code",
   "execution_count": 2,
   "id": "30c6647c",
   "metadata": {},
   "outputs": [
    {
     "name": "stdout",
     "output_type": "stream",
     "text": [
      "name\n",
      "summit\n"
     ]
    }
   ],
   "source": [
    "class version:\n",
    "    def method(self):\n",
    "        print(\"name\")\n",
    "        \n",
    "class version1(version):\n",
    "    def method1(self):\n",
    "        print(\"summit\")\n",
    "new=version1()\n",
    "new.method()\n",
    "new.method1()"
   ]
  },
  {
   "cell_type": "markdown",
   "id": "17da5c25",
   "metadata": {},
   "source": [
    "2.Multiple Inheritance"
   ]
  },
  {
   "cell_type": "code",
   "execution_count": 3,
   "id": "a9a216b4",
   "metadata": {},
   "outputs": [
    {
     "name": "stdout",
     "output_type": "stream",
     "text": [
      "10\n"
     ]
    }
   ],
   "source": [
    "class superclass1:\n",
    "    num1=3\n",
    "class superclass2:\n",
    "    num2=5\n",
    "class superclass3:\n",
    "    num3=2\n",
    "class subclass(superclass1,superclass2,superclass3):\n",
    "    def addition(self):\n",
    "        return self.num1+self.num2+self.num3\n",
    "obj=subclass()\n",
    "print(obj.addition())"
   ]
  },
  {
   "cell_type": "markdown",
   "id": "f97f2cf8",
   "metadata": {},
   "source": [
    "3.Multilevel Inheritance"
   ]
  },
  {
   "cell_type": "code",
   "execution_count": 5,
   "id": "4956a429",
   "metadata": {},
   "outputs": [
    {
     "data": {
      "text/plain": [
       "'Python Practised'"
      ]
     },
     "execution_count": 5,
     "metadata": {},
     "output_type": "execute_result"
    }
   ],
   "source": [
    "class parent:\n",
    "    str1=\"Python\"\n",
    "class child(parent):\n",
    "    str2=\" Practised\"\n",
    "class grandchild(child):\n",
    "    def add(self):\n",
    "        return self.str1+ self.str2\n",
    "person=grandchild()\n",
    "person.add()"
   ]
  },
  {
   "cell_type": "markdown",
   "id": "1e895bc1",
   "metadata": {},
   "source": [
    "4.Hierarchical Inheritance"
   ]
  },
  {
   "cell_type": "code",
   "execution_count": 7,
   "id": "edcb441c",
   "metadata": {},
   "outputs": [
    {
     "name": "stdout",
     "output_type": "stream",
     "text": [
      "10 10 10\n"
     ]
    }
   ],
   "source": [
    "class superclass:\n",
    "    x=10\n",
    "class subclass1(superclass):\n",
    "    pass\n",
    "class subclass2(superclass):\n",
    "    pass\n",
    "class subclass3(superclass):\n",
    "    pass\n",
    "\n",
    "a=subclass1()\n",
    "b=subclass2()\n",
    "c=subclass3()\n",
    "print(a.x,b.x,c.x)"
   ]
  },
  {
   "cell_type": "markdown",
   "id": "1ce0dca2",
   "metadata": {},
   "source": [
    "5.Hybrid Inheritance"
   ]
  },
  {
   "cell_type": "code",
   "execution_count": 8,
   "id": "6005adb6",
   "metadata": {},
   "outputs": [
    {
     "data": {
      "text/plain": [
       "5"
      ]
     },
     "execution_count": 8,
     "metadata": {},
     "output_type": "execute_result"
    }
   ],
   "source": [
    "class A:\n",
    "    x=5\n",
    "class B(A):\n",
    "    pass\n",
    "class C(A):\n",
    "    pass\n",
    "class D(B,C):\n",
    "    pass\n",
    "object=D()\n",
    "object.x"
   ]
  }
 ],
 "metadata": {
  "kernelspec": {
   "display_name": "Python 3 (ipykernel)",
   "language": "python",
   "name": "python3"
  },
  "language_info": {
   "codemirror_mode": {
    "name": "ipython",
    "version": 3
   },
   "file_extension": ".py",
   "mimetype": "text/x-python",
   "name": "python",
   "nbconvert_exporter": "python",
   "pygments_lexer": "ipython3",
   "version": "3.9.7"
  }
 },
 "nbformat": 4,
 "nbformat_minor": 5
}
