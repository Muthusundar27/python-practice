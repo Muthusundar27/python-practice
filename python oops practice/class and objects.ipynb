{
 "cells": [
  {
   "cell_type": "markdown",
   "id": "6f94b635",
   "metadata": {},
   "source": [
    "CLASS and OBJECTS"
   ]
  },
  {
   "cell_type": "code",
   "execution_count": 1,
   "id": "23e2e9f9",
   "metadata": {},
   "outputs": [
    {
     "name": "stdout",
     "output_type": "stream",
     "text": [
      "class method\n",
      "10\n",
      "20\n"
     ]
    }
   ],
   "source": [
    "class demo:\n",
    "    print(\"class method\")\n",
    "    a=10 #Data member\n",
    "    b=20\n",
    "    print(a)\n",
    "obj = demo() #Instantiation or object creation\n",
    "print(obj.b)"
   ]
  },
  {
   "cell_type": "markdown",
   "id": "bf4eb4d7",
   "metadata": {},
   "source": [
    "CLASS WITH FUNCTION"
   ]
  },
  {
   "cell_type": "code",
   "execution_count": 2,
   "id": "211c4a87",
   "metadata": {},
   "outputs": [
    {
     "name": "stdout",
     "output_type": "stream",
     "text": [
      "40\n"
     ]
    }
   ],
   "source": [
    "class demo:\n",
    "    def example(self,a,b):  #Member function\n",
    "        c=a+b    #Instance variable\n",
    "        print(c)\n",
    "obj=demo() #Instantiation or object creation\n",
    "obj.example(15,25)"
   ]
  }
 ],
 "metadata": {
  "kernelspec": {
   "display_name": "Python 3 (ipykernel)",
   "language": "python",
   "name": "python3"
  },
  "language_info": {
   "codemirror_mode": {
    "name": "ipython",
    "version": 3
   },
   "file_extension": ".py",
   "mimetype": "text/x-python",
   "name": "python",
   "nbconvert_exporter": "python",
   "pygments_lexer": "ipython3",
   "version": "3.9.7"
  }
 },
 "nbformat": 4,
 "nbformat_minor": 5
}
