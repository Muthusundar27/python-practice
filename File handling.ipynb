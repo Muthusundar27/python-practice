{
 "cells": [
  {
   "cell_type": "code",
   "execution_count": 1,
   "id": "b3a7d5f7",
   "metadata": {},
   "outputs": [],
   "source": [
    "f = open(\"Downloads\\Salaries.csv\",\"r\")\n"
   ]
  },
  {
   "cell_type": "code",
   "execution_count": 2,
   "id": "a98c336a",
   "metadata": {},
   "outputs": [
    {
     "name": "stdout",
     "output_type": "stream",
     "text": [
      "Name of the file Downloads\\Salaries.csv\n"
     ]
    }
   ],
   "source": [
    "print(\"Name of the file\", f.name)"
   ]
  },
  {
   "cell_type": "code",
   "execution_count": 3,
   "id": "d48d8d27",
   "metadata": {},
   "outputs": [
    {
     "name": "stdout",
     "output_type": "stream",
     "text": [
      "mode of file r\n"
     ]
    }
   ],
   "source": [
    "print(\"mode of file\", f.mode)"
   ]
  },
  {
   "cell_type": "code",
   "execution_count": 4,
   "id": "1801f331",
   "metadata": {},
   "outputs": [
    {
     "name": "stdout",
     "output_type": "stream",
     "text": [
      "file is closed:  False\n"
     ]
    }
   ],
   "source": [
    "print(\"file is closed: \",f.closed)"
   ]
  },
  {
   "cell_type": "code",
   "execution_count": 5,
   "id": "fec74924",
   "metadata": {},
   "outputs": [],
   "source": [
    "f.close()"
   ]
  },
  {
   "cell_type": "code",
   "execution_count": 6,
   "id": "294d9ab5",
   "metadata": {},
   "outputs": [
    {
     "name": "stdout",
     "output_type": "stream",
     "text": [
      "file is closed:  True\n"
     ]
    }
   ],
   "source": [
    "print(\"file is closed: \",f.closed)"
   ]
  },
  {
   "cell_type": "markdown",
   "id": "8b7f67b2",
   "metadata": {},
   "source": [
    "Read and Writing in a file"
   ]
  },
  {
   "cell_type": "code",
   "execution_count": 7,
   "id": "ce6f942a",
   "metadata": {},
   "outputs": [],
   "source": [
    "s = open(\"Downloads\\sample.txt\",\"r+\")\n",
    "\n"
   ]
  },
  {
   "cell_type": "code",
   "execution_count": 8,
   "id": "1040ff8e",
   "metadata": {},
   "outputs": [],
   "source": [
    "s.write(\"abcdefghijklmnopqrstuvwxyz\")\n",
    "s.close()"
   ]
  }
 ],
 "metadata": {
  "kernelspec": {
   "display_name": "Python 3 (ipykernel)",
   "language": "python",
   "name": "python3"
  },
  "language_info": {
   "codemirror_mode": {
    "name": "ipython",
    "version": 3
   },
   "file_extension": ".py",
   "mimetype": "text/x-python",
   "name": "python",
   "nbconvert_exporter": "python",
   "pygments_lexer": "ipython3",
   "version": "3.9.7"
  }
 },
 "nbformat": 4,
 "nbformat_minor": 5
}
